{
 "cells": [
  {
   "cell_type": "markdown",
   "id": "8617005b",
   "metadata": {},
   "source": [
    "# SOCAT Cell Time Series\n",
    "This notebook explores various aspects of the time series for grid cells in the SOCAT dataset.\n",
    "\n",
    "Before running this notebook, you must run the following three scripts:\n",
    "- `make_socat_database.jl` (needs a copy of the main SOCAT tsv file in the current directory)\n",
    "- `make_timeseries_count.jl`\n",
    "- `mean_sd_minute.jl`\n",
    "\n",
    "These scripts create the database and netCDF files used by this notebook.\n",
    "\n",
    "## Introduction\n",
    "\n",
    "### Database Structure\n",
    "`make_socat_database.jl` creates `socat.sqlite` which contains a simplified version of the SOCAT dataset. It contains one table (`socat`) with a record for each SOCAT observation. The table contains the following fields:\n",
    "\n",
    "| Field         | Description                                                          |\n",
    "|:--------------|:---------------------------------------------------------------------|\n",
    "| `lonindex`    | The longitude cell index†                                            |\n",
    "| `latindex`    | The latitude cell index†                                             |\n",
    "| `year`        | The year in which the measurement was taken                          |\n",
    "| `dayofyear`   | The day of the year on which the measurement was taken‡              |\n",
    "| `minuteofday` | The minute of the day on which the measurement was taken             |\n",
    "| `expocode`    | The Expo Code of the voyage during which the measurement was taken   |\n",
    "| `sst`         | The measured sea surface temperature                                 |\n",
    "| `sss`         | The measured sea surface salinity                                    |\n",
    "| `fco2`        | The measured fCO₂                                                    |\n",
    "\n",
    "†The index represents a 1° cell, ranging from `1 = 0.5°` through `360 = 359.5°` for longitude and `1 = -89.5°` to `180 = 89.5°` for latitude.\n",
    "\n",
    "‡The `dayofyear` ignores leap years - dates on or after 29th February in leap years are decremented by 1 to align them with other years. This may lead to multiple time series for 28th February in a given year, but this shouldn't be a problem.\n",
    "\n",
    "## Data Summary\n",
    "`make_time_series_count.jl` and `mean_sd_minute.jl` compute statistics of the cells' time series. You can look at these in detail below, but for now here is a summary.\n",
    "\n",
    "### Number of time series\n",
    "The map below shows the number of days containing observations in each 1° grid cell, taken from the SOCATv2020 dataset.\n",
    "![Time Series Count](time_series_count.png)\n",
    "\n",
    "### Mean minute\n",
    "This map shows the mean minute of the day in which observations wjere taken in each grid cell across the entire SOCAT dataset. The lack of a clear pattern indicates that there is no systematic bias across the dataset regarding observation time, which is expected.\n",
    "![Mean Minute](mean_minute.png)\n",
    "\n",
    "### R̅\n",
    "The R̅ computed for a grid cell is a measure of how widely distributed the measurements are throughout the day. R̅ is a value between 0 and 1, where 0 indicates a wide distribution throughout the day and 1 indicating that measurements are concentrated around a particular time. The map below shows the R̅ for each grid cell.\n",
    "![R̅](Rbar.png)\n",
    "\n",
    "We would expect the cells with the most time series to have a greater distribution of measurements around the clock (R̅ close to zero) than those with few time series. However, this isn't the case:"
   ]
  },
  {
   "cell_type": "code",
   "execution_count": 58,
   "id": "1b3a4b0e",
   "metadata": {},
   "outputs": [
    {
     "name": "stdout",
     "output_type": "stream",
     "text": [
      "Time Series Count/R̅ correlation =  -0.16805433667306793\n"
     ]
    }
   ],
   "source": [
    "%run notebook_module.ipynb\n",
    "\n",
    "timeseriescount = Dataset(\"./time_series_count.nc\")[\"count\"][:,:].compressed()\n",
    "R̅ = Dataset(\"./mean_sd_minute.nc\")[\"minute_R̅\"][:,:].compressed()\n",
    "\n",
    "print(f'Time Series Count/R̅ correlation =  {np.corrcoef(timeseriescount, R̅)[0,1]}')"
   ]
  },
  {
   "cell_type": "code",
   "execution_count": 59,
   "id": "3329fc4e",
   "metadata": {},
   "outputs": [
    {
     "data": {
      "image/png": "[encoded data removed]",
      "text/plain": [
       "<Figure size 432x288 with 1 Axes>"
      ]
     },
     "metadata": {
      "needs_background": "light"
     },
     "output_type": "display_data"
    }
   ],
   "source": [
    "plt.hist(R̅, bins=50)\n",
    "plt.xlabel('R̅')\n",
    "plt.ylabel('Count')\n",
    "plt.title('Distribution of R̅')\n",
    "plt.show()"
   ]
  },
  {
   "cell_type": "code",
   "execution_count": 60,
   "id": "b8a088e2",
   "metadata": {},
   "outputs": [
    {
     "data": {
      "image/png": "[encoded data removed]",
      "text/plain": [
       "<Figure size 432x288 with 1 Axes>"
      ]
     },
     "metadata": {
      "needs_background": "light"
     },
     "output_type": "display_data"
    }
   ],
   "source": [
    "plt.scatter(timeseriescount, R̅)\n",
    "plt.xscale('log')\n",
    "plt.xlabel('Time Series Count (log₁₀)')\n",
    "plt.ylabel('R̅')\n",
    "plt.show()\n",
    "#, label=\"\", xlabel=\"Time Series Count (log₁₀)\", ylabel=\"R̅\", xscale=:log10)"
   ]
  },
  {
   "cell_type": "markdown",
   "id": "93049345",
   "metadata": {},
   "source": [
    "## Cell Exploration\n",
    "Below we can explore some details of specific grid cells. First up, a list of all the cells and their details. Below we build a table of all the cells.\n"
   ]
  },
  {
   "cell_type": "code",
   "execution_count": null,
   "id": "4d6ea908",
   "metadata": {},
   "outputs": [
    {
     "data": {
      "application/vnd.jupyter.widget-view+json": {
       "model_id": "ad1114cf8c5d4587a1221aa3fe3990c9",
       "version_major": 2,
       "version_minor": 0
      },
      "text/plain": [
       "VBox(children=(HTML(value=''), IntProgress(value=0, max=360)))"
      ]
     },
     "metadata": {},
     "output_type": "display_data"
    }
   ],
   "source": [
    "# Open the netCDF files and load the variables we want\t\n",
    "counts = Dataset(\"time_series_count.nc\", \"r\")['count']\n",
    "R̅s = Dataset(\"mean_sd_minute.nc\", \"r\")[\"minute_R̅\"]\n",
    "\n",
    "cell_list = pd.DataFrame(columns=['Lon', 'Lat', 'TimeSeriesCount', 'R̅'])\n",
    "\n",
    "for lon in log_progress(range(0,360), every=1, size=360, name='Calculating'):\n",
    "    for lat in range(0,180):\n",
    "        if counts[lat, lon] is not masked:\n",
    "            cell_list = cell_list.append({\"Lon\":lon,\"Lat\":lat,\"TimeSeriesCount\":counts[lat, lon],\"R̅\":R̅s[lat, lon]}, ignore_index=True)\n",
    "\n",
    "cell_list.sort_values(by=['TimeSeriesCount', 'R̅'], inplace=True)\n",
    "cell_list\n"
   ]
  },
  {
   "cell_type": "code",
   "execution_count": null,
   "id": "b452486e",
   "metadata": {},
   "outputs": [],
   "source": []
  }
 ],
 "metadata": {
  "kernelspec": {
   "display_name": "Python 3",
   "language": "python",
   "name": "python3"
  },
  "language_info": {
   "codemirror_mode": {
    "name": "ipython",
    "version": 3
   },
   "file_extension": ".py",
   "mimetype": "text/x-python",
   "name": "python",
   "nbconvert_exporter": "python",
   "pygments_lexer": "ipython3",
   "version": "3.8.5"
  }
 },
 "nbformat": 4,
 "nbformat_minor": 5
}
